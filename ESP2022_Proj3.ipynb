{
  "nbformat": 4,
  "nbformat_minor": 0,
  "metadata": {
    "colab": {
      "name": "ESP2022_Proj3.ipynb",
      "provenance": [],
      "collapsed_sections": [],
      "mount_file_id": "1UNrR7K-IvnXpuhf3GlFWGsJR8pMinrk8",
      "authorship_tag": "ABX9TyPObufpQ2HmNEgZWLJirLrI",
      "include_colab_link": true
    },
    "kernelspec": {
      "name": "python3",
      "display_name": "Python 3"
    },
    "language_info": {
      "name": "python"
    },
    "accelerator": "GPU"
  },
  "cells": [
    {
      "cell_type": "markdown",
      "metadata": {
        "id": "view-in-github",
        "colab_type": "text"
      },
      "source": [
        "<a href=\"https://colab.research.google.com/github/xixihaha1995/esp_proj3/blob/main/ESP2022_Proj3.ipynb\" target=\"_parent\"><img src=\"https://colab.research.google.com/assets/colab-badge.svg\" alt=\"Open In Colab\"/></a>"
      ]
    },
    {
      "cell_type": "markdown",
      "source": [
        "# Building Energy Prediction based on Machine Learning\n",
        "## Mount to GoogleDrive"
      ],
      "metadata": {
        "id": "1jqK9SFc-R18"
      }
    },
    {
      "cell_type": "code",
      "execution_count": 9,
      "metadata": {
        "colab": {
          "base_uri": "https://localhost:8080/"
        },
        "id": "-lx0Z_7n8n4Q",
        "outputId": "26e66489-088b-467b-e08b-0a7fb1946e34"
      },
      "outputs": [
        {
          "output_type": "stream",
          "name": "stdout",
          "text": [
            "Drive already mounted at /content/drive; to attempt to forcibly remount, call drive.mount(\"/content/drive\", force_remount=True).\n",
            "/content/drive/MyDrive/studying/Summer 2022/Project3\n"
          ]
        }
      ],
      "source": [
        "from google.colab import drive\n",
        "drive.mount('/content/drive')\n",
        "%cd '/content/drive/MyDrive/studying/Summer 2022/Project3/'"
      ]
    },
    {
      "cell_type": "code",
      "source": [
        "!pip3 install torch==1.2.0+cu92 torchvision==0.4.0+cu92 -f https://download.pytorch.org/whl/torch_stable.html"
      ],
      "metadata": {
        "id": "xTvPJhoN_T33"
      },
      "execution_count": null,
      "outputs": []
    },
    {
      "cell_type": "markdown",
      "source": [
        "## Import modules"
      ],
      "metadata": {
        "id": "8to_nUXo_LuN"
      }
    },
    {
      "cell_type": "code",
      "source": [
        "import os, time, numpy as np, pandas as pd, matplotlib.pyplot as plt\n",
        "\n",
        "import torch, torch.nn as nn\n",
        "from torch.utils.data import TensorDataset, DataLoader\n",
        "from tqdm import tqdm_notebook\n",
        "from sklearn.preprocessing import MinMaxScaler"
      ],
      "metadata": {
        "id": "2WZBnLqu9yuQ"
      },
      "execution_count": 37,
      "outputs": []
    },
    {
      "cell_type": "markdown",
      "source": [
        "## Hyperparameters and Neural Network setup"
      ],
      "metadata": {
        "id": "me81e_ah_naC"
      }
    },
    {
      "cell_type": "code",
      "source": [
        "lookback = 90\n",
        "test_portion_factor = 0.3\n",
        "\n",
        "lr = 0.001\n",
        "hidden_dim=256\n",
        "EPOCHS=5\n",
        "model_type = \"GRU\"\n",
        "output_dim = 1\n",
        "n_layers = 2\n",
        "\n",
        "'''\n",
        "new_cols[0] is the target y\n",
        "new_cols[1:] are input x\n",
        "'''\n",
        "new_cols = ['elec_hvac[J]','month','dayofmonth','dayofweek', 'hour', 'minute',\n",
        "        'oat[C]', 'solar[W/m2]']\n",
        "print(f'Target variable:{new_cols[0]}')\n",
        "print(f'Input features:{new_cols[1:]}')"
      ],
      "metadata": {
        "id": "QT7biJ6sCTyF",
        "colab": {
          "base_uri": "https://localhost:8080/"
        },
        "outputId": "c096eaf6-78db-447d-d249-b2ea8df02a39"
      },
      "execution_count": 54,
      "outputs": [
        {
          "output_type": "stream",
          "name": "stdout",
          "text": [
            "Target variable:elec_hvac[J]\n",
            "Input features:['month', 'dayofmonth', 'dayofweek', 'hour', 'minute', 'oat[C]', 'solar[W/m2]']\n"
          ]
        }
      ]
    },
    {
      "cell_type": "code",
      "source": [
        "class GRUNet(nn.Module):\n",
        "    def __init__(self, input_dim, hidden_dim, output_dim, n_layers, drop_prob=0.2):\n",
        "        super(GRUNet, self).__init__()\n",
        "        self.hidden_dim = hidden_dim\n",
        "        self.n_layers = n_layers\n",
        "        \n",
        "        self.gru = nn.GRU(input_dim, hidden_dim, n_layers, batch_first=True, dropout=drop_prob)\n",
        "        self.fc = nn.Linear(hidden_dim, output_dim)\n",
        "        self.relu = nn.ReLU()\n",
        "        \n",
        "    def forward(self, x, h):\n",
        "        out, h = self.gru(x, h)\n",
        "        out = self.fc(self.relu(out[:,-1]))\n",
        "        return out, h\n",
        "    \n",
        "    def init_hidden(self, batch_size):\n",
        "        weight = next(self.parameters()).data\n",
        "        hidden = weight.new(self.n_layers, batch_size, self.hidden_dim).zero_().to(device)\n",
        "        return hidden\n",
        "\n",
        "class LSTMNet(nn.Module):\n",
        "    def __init__(self, input_dim, hidden_dim, output_dim, n_layers, drop_prob=0.2):\n",
        "        super(LSTMNet, self).__init__()\n",
        "        self.hidden_dim = hidden_dim\n",
        "        self.n_layers = n_layers\n",
        "        \n",
        "        self.lstm = nn.LSTM(input_dim, hidden_dim, n_layers, batch_first=True, dropout=drop_prob)\n",
        "        self.fc = nn.Linear(hidden_dim, output_dim)\n",
        "        self.relu = nn.ReLU()\n",
        "        \n",
        "    def forward(self, x, h):\n",
        "        out, h = self.lstm(x, h)\n",
        "        out = self.fc(self.relu(out[:,-1]))\n",
        "        return out, h\n",
        "    \n",
        "    def init_hidden(self, batch_size):\n",
        "        weight = next(self.parameters()).data\n",
        "        hidden = (weight.new(self.n_layers, batch_size, self.hidden_dim).zero_().to(device),\n",
        "                  weight.new(self.n_layers, batch_size, self.hidden_dim).zero_().to(device))\n",
        "        return hidden"
      ],
      "metadata": {
        "id": "RwwvR38MBjJD"
      },
      "execution_count": 39,
      "outputs": []
    },
    {
      "cell_type": "code",
      "source": [
        "def train(model, train_loader, learn_rate, hidden_dim=256, EPOCHS=5, model_type=\"GRU\"):\n",
        "    \n",
        "    # Setting common hyperparameters\n",
        "    # input_dim = next(iter(train_loader))[0].shape[2]\n",
        "    # output_dim = 1\n",
        "    # n_layers = 2\n",
        "    # Instantiating the models\n",
        "    # if model_type == \"GRU\":\n",
        "    #     model = GRUNet(input_dim, hidden_dim, output_dim, n_layers)\n",
        "    # else:\n",
        "    #     model = LSTMNet(input_dim, hidden_dim, output_dim, n_layers)\n",
        "    # model.to(device)\n",
        "    \n",
        "    # Defining loss function and optimizer\n",
        "    criterion = nn.MSELoss()\n",
        "    optimizer = torch.optim.Adam(model.parameters(), lr=learn_rate)\n",
        "    \n",
        "    model.train()\n",
        "    print(\"Starting Training of {} model\".format(model_type))\n",
        "    epoch_times = []\n",
        "    # Start training loop\n",
        "    for epoch in range(1,EPOCHS+1):\n",
        "        start_time = time.clock()\n",
        "        h = model.init_hidden(batch_size)\n",
        "        avg_loss = 0.\n",
        "        counter = 0\n",
        "        for x, label in train_loader:\n",
        "            counter += 1\n",
        "            if model_type == \"GRU\":\n",
        "                h = h.data\n",
        "            else:\n",
        "                h = tuple([e.data for e in h])\n",
        "            model.zero_grad()\n",
        "            \n",
        "            out, h = model(x.to(device).float(), h)\n",
        "            loss = criterion(out, label.to(device).float())\n",
        "            loss.backward()\n",
        "            optimizer.step()\n",
        "            avg_loss += loss.item()\n",
        "            if counter%200 == 0:\n",
        "                print(\"Epoch {}......Step: {}/{}....... Average Loss for Epoch: {}\".format(epoch, counter, len(train_loader), avg_loss/counter))\n",
        "        current_time = time.clock()\n",
        "        print(\"Epoch {}/{} Done, Total Loss: {}\".format(epoch, EPOCHS, avg_loss/len(train_loader)))\n",
        "        print(\"Time Elapsed for Epoch: {} seconds\".format(str(current_time-start_time)))\n",
        "        epoch_times.append(current_time-start_time)\n",
        "    print(\"Total Training Time: {} seconds\".format(str(sum(epoch_times))))\n",
        "    return model\n",
        "\n",
        "def evaluate(model, test_x, test_y, label_scalers):\n",
        "    model.eval()\n",
        "    outputs = []\n",
        "    targets = []\n",
        "    start_time = time.clock()\n",
        "    for i in test_x.keys():\n",
        "        inp = torch.from_numpy(np.array(test_x[i]))\n",
        "        labs = torch.from_numpy(np.array(test_y[i]))\n",
        "        h = model.init_hidden(inp.shape[0])\n",
        "        out, h = model(inp.to(device).float(), h)\n",
        "        outputs.append(label_scalers[i].inverse_transform(out.cpu().detach().numpy()).reshape(-1))\n",
        "        targets.append(label_scalers[i].inverse_transform(labs.numpy()).reshape(-1))\n",
        "    print(\"Evaluation Time: {}\".format(str(time.clock()-start_time)))\n",
        "    sMAPE = 0\n",
        "    for i in range(len(outputs)):\n",
        "        sMAPE += np.mean(abs(outputs[i]-targets[i])/(targets[i]+outputs[i])/2)/len(outputs)\n",
        "    print(\"sMAPE: {}%\".format(sMAPE*100))\n",
        "    return outputs, targets, sMAPE"
      ],
      "metadata": {
        "id": "s15zrWMjBk-e"
      },
      "execution_count": 40,
      "outputs": []
    },
    {
      "cell_type": "markdown",
      "source": [
        "## Preview the training data"
      ],
      "metadata": {
        "id": "Cu-Cbmwl_Xm-"
      }
    },
    {
      "cell_type": "code",
      "source": [
        "# Define data root directory\n",
        "data_dir = \"./data/\"\n",
        "print(os.listdir(data_dir))\n",
        "pd.read_csv(data_dir + 'pyep_results.csv').head()"
      ],
      "metadata": {
        "colab": {
          "base_uri": "https://localhost:8080/",
          "height": 223
        },
        "id": "AkzD1v23_8hs",
        "outputId": "2bc86433-8530-4753-a81f-e25ac276532e"
      },
      "execution_count": 41,
      "outputs": [
        {
          "output_type": "stream",
          "name": "stdout",
          "text": [
            "['pyep_results.csv']\n"
          ]
        },
        {
          "output_type": "execute_result",
          "data": {
            "text/plain": [
              "    timestamp  oat[C]  elec_hvac[J]  solar[W/m2]  zone_load_rate[W]\n",
              "0  1483228800    -6.0   119261608.6          0.0       21349.115130\n",
              "1  1483229700    -5.0   119943039.8          0.0      287394.218900\n",
              "2  1483230600    -4.0   113352487.4          0.0      104468.353900\n",
              "3  1483231500    -3.0   124596405.9          0.0        8957.038971\n",
              "4  1483232400    -3.0   118362007.9          0.0      201057.389000"
            ],
            "text/html": [
              "\n",
              "  <div id=\"df-abd264dd-f52a-4b31-9589-615689e372ad\">\n",
              "    <div class=\"colab-df-container\">\n",
              "      <div>\n",
              "<style scoped>\n",
              "    .dataframe tbody tr th:only-of-type {\n",
              "        vertical-align: middle;\n",
              "    }\n",
              "\n",
              "    .dataframe tbody tr th {\n",
              "        vertical-align: top;\n",
              "    }\n",
              "\n",
              "    .dataframe thead th {\n",
              "        text-align: right;\n",
              "    }\n",
              "</style>\n",
              "<table border=\"1\" class=\"dataframe\">\n",
              "  <thead>\n",
              "    <tr style=\"text-align: right;\">\n",
              "      <th></th>\n",
              "      <th>timestamp</th>\n",
              "      <th>oat[C]</th>\n",
              "      <th>elec_hvac[J]</th>\n",
              "      <th>solar[W/m2]</th>\n",
              "      <th>zone_load_rate[W]</th>\n",
              "    </tr>\n",
              "  </thead>\n",
              "  <tbody>\n",
              "    <tr>\n",
              "      <th>0</th>\n",
              "      <td>1483228800</td>\n",
              "      <td>-6.0</td>\n",
              "      <td>119261608.6</td>\n",
              "      <td>0.0</td>\n",
              "      <td>21349.115130</td>\n",
              "    </tr>\n",
              "    <tr>\n",
              "      <th>1</th>\n",
              "      <td>1483229700</td>\n",
              "      <td>-5.0</td>\n",
              "      <td>119943039.8</td>\n",
              "      <td>0.0</td>\n",
              "      <td>287394.218900</td>\n",
              "    </tr>\n",
              "    <tr>\n",
              "      <th>2</th>\n",
              "      <td>1483230600</td>\n",
              "      <td>-4.0</td>\n",
              "      <td>113352487.4</td>\n",
              "      <td>0.0</td>\n",
              "      <td>104468.353900</td>\n",
              "    </tr>\n",
              "    <tr>\n",
              "      <th>3</th>\n",
              "      <td>1483231500</td>\n",
              "      <td>-3.0</td>\n",
              "      <td>124596405.9</td>\n",
              "      <td>0.0</td>\n",
              "      <td>8957.038971</td>\n",
              "    </tr>\n",
              "    <tr>\n",
              "      <th>4</th>\n",
              "      <td>1483232400</td>\n",
              "      <td>-3.0</td>\n",
              "      <td>118362007.9</td>\n",
              "      <td>0.0</td>\n",
              "      <td>201057.389000</td>\n",
              "    </tr>\n",
              "  </tbody>\n",
              "</table>\n",
              "</div>\n",
              "      <button class=\"colab-df-convert\" onclick=\"convertToInteractive('df-abd264dd-f52a-4b31-9589-615689e372ad')\"\n",
              "              title=\"Convert this dataframe to an interactive table.\"\n",
              "              style=\"display:none;\">\n",
              "        \n",
              "  <svg xmlns=\"http://www.w3.org/2000/svg\" height=\"24px\"viewBox=\"0 0 24 24\"\n",
              "       width=\"24px\">\n",
              "    <path d=\"M0 0h24v24H0V0z\" fill=\"none\"/>\n",
              "    <path d=\"M18.56 5.44l.94 2.06.94-2.06 2.06-.94-2.06-.94-.94-2.06-.94 2.06-2.06.94zm-11 1L8.5 8.5l.94-2.06 2.06-.94-2.06-.94L8.5 2.5l-.94 2.06-2.06.94zm10 10l.94 2.06.94-2.06 2.06-.94-2.06-.94-.94-2.06-.94 2.06-2.06.94z\"/><path d=\"M17.41 7.96l-1.37-1.37c-.4-.4-.92-.59-1.43-.59-.52 0-1.04.2-1.43.59L10.3 9.45l-7.72 7.72c-.78.78-.78 2.05 0 2.83L4 21.41c.39.39.9.59 1.41.59.51 0 1.02-.2 1.41-.59l7.78-7.78 2.81-2.81c.8-.78.8-2.07 0-2.86zM5.41 20L4 18.59l7.72-7.72 1.47 1.35L5.41 20z\"/>\n",
              "  </svg>\n",
              "      </button>\n",
              "      \n",
              "  <style>\n",
              "    .colab-df-container {\n",
              "      display:flex;\n",
              "      flex-wrap:wrap;\n",
              "      gap: 12px;\n",
              "    }\n",
              "\n",
              "    .colab-df-convert {\n",
              "      background-color: #E8F0FE;\n",
              "      border: none;\n",
              "      border-radius: 50%;\n",
              "      cursor: pointer;\n",
              "      display: none;\n",
              "      fill: #1967D2;\n",
              "      height: 32px;\n",
              "      padding: 0 0 0 0;\n",
              "      width: 32px;\n",
              "    }\n",
              "\n",
              "    .colab-df-convert:hover {\n",
              "      background-color: #E2EBFA;\n",
              "      box-shadow: 0px 1px 2px rgba(60, 64, 67, 0.3), 0px 1px 3px 1px rgba(60, 64, 67, 0.15);\n",
              "      fill: #174EA6;\n",
              "    }\n",
              "\n",
              "    [theme=dark] .colab-df-convert {\n",
              "      background-color: #3B4455;\n",
              "      fill: #D2E3FC;\n",
              "    }\n",
              "\n",
              "    [theme=dark] .colab-df-convert:hover {\n",
              "      background-color: #434B5C;\n",
              "      box-shadow: 0px 1px 3px 1px rgba(0, 0, 0, 0.15);\n",
              "      filter: drop-shadow(0px 1px 2px rgba(0, 0, 0, 0.3));\n",
              "      fill: #FFFFFF;\n",
              "    }\n",
              "  </style>\n",
              "\n",
              "      <script>\n",
              "        const buttonEl =\n",
              "          document.querySelector('#df-abd264dd-f52a-4b31-9589-615689e372ad button.colab-df-convert');\n",
              "        buttonEl.style.display =\n",
              "          google.colab.kernel.accessAllowed ? 'block' : 'none';\n",
              "\n",
              "        async function convertToInteractive(key) {\n",
              "          const element = document.querySelector('#df-abd264dd-f52a-4b31-9589-615689e372ad');\n",
              "          const dataTable =\n",
              "            await google.colab.kernel.invokeFunction('convertToInteractive',\n",
              "                                                     [key], {});\n",
              "          if (!dataTable) return;\n",
              "\n",
              "          const docLinkHtml = 'Like what you see? Visit the ' +\n",
              "            '<a target=\"_blank\" href=https://colab.research.google.com/notebooks/data_table.ipynb>data table notebook</a>'\n",
              "            + ' to learn more about interactive tables.';\n",
              "          element.innerHTML = '';\n",
              "          dataTable['output_type'] = 'display_data';\n",
              "          await google.colab.output.renderOutput(dataTable, element);\n",
              "          const docLink = document.createElement('div');\n",
              "          docLink.innerHTML = docLinkHtml;\n",
              "          element.appendChild(docLink);\n",
              "        }\n",
              "      </script>\n",
              "    </div>\n",
              "  </div>\n",
              "  "
            ]
          },
          "metadata": {},
          "execution_count": 41
        }
      ]
    },
    {
      "cell_type": "markdown",
      "source": [
        "## Load training and testing data"
      ],
      "metadata": {
        "id": "Exz2MGymBD9t"
      }
    },
    {
      "cell_type": "code",
      "source": [
        "# The scaler objects will be stored in this dictionary so that our output test data from the model can be re-scaled during evaluation\n",
        "label_scalers = {}\n",
        "\n",
        "train_x = []\n",
        "test_x = {}\n",
        "test_y = {}\n",
        "\n",
        "# for file in tqdm_notebook(os.listdir(data_dir)): \n",
        "for file in os.listdir(data_dir): \n",
        "    # Skipping the files we're not using\n",
        "    if file[-4:] != \".csv\" or file == \"pjm_hourly_est.csv\":\n",
        "        continue\n",
        "    print(file)\n",
        "    # Store csv file in a Pandas DataFrame\n",
        "    df = pd.read_csv(data_dir + file, parse_dates=[0])\n",
        "    # Processing the time data into suitable input formats\n",
        "\n",
        "\n",
        "    df = pd.read_csv(data_dir + file)\n",
        "    df.timestamp = pd.to_datetime(df.timestamp, unit='s')\n",
        "    df['minute'] = df.apply(lambda x: x['timestamp'].minute, axis=1)\n",
        "    df['hour'] = df.apply(lambda x: x['timestamp'].hour, axis=1)\n",
        "    df['dayofweek'] = df.apply(lambda x: x['timestamp'].dayofweek, axis=1)\n",
        "    df['dayofmonth'] = df.apply(lambda x: x['timestamp'].day, axis=1)\n",
        "    df['month'] = df.apply(lambda x: x['timestamp'].month, axis=1)\n",
        "    # new_cols = ['month','dayofmonth','dayofweek', 'hour', 'minute',\n",
        "    #             'oat[C]', 'elec_hvac[J]','solar[W/m2]', 'zone_load_rate[W]']\n",
        "\n",
        "    df = df.sort_values(\"timestamp\").drop(\"timestamp\", axis=1)\n",
        "    df = df[new_cols]\n",
        "\n",
        "    # df['hour'] = df.apply(lambda x: x['Datetime'].hour,axis=1)\n",
        "    # df['dayofweek'] = df.apply(lambda x: x['Datetime'].dayofweek,axis=1)\n",
        "    # df['month'] = df.apply(lambda x: x['Datetime'].month,axis=1)\n",
        "    # df['dayofyear'] = df.apply(lambda x: x['Datetime'].dayofyear,axis=1)\n",
        "    # df = df.sort_values(\"Datetime\").drop(\"Datetime\",axis=1)\n",
        "    \n",
        "    # Scaling the input data\n",
        "    sc = MinMaxScaler()\n",
        "    label_sc = MinMaxScaler()\n",
        "    data = sc.fit_transform(df.values)\n",
        "    # Obtaining the Scale for the labels(usage data) so that output can be re-scaled to actual value during evaluation\n",
        "    label_sc.fit(df.iloc[:,0].values.reshape(-1,1))\n",
        "    label_scalers[file] = label_sc\n",
        "    \n",
        "    # Use lookback period to split inputs/labels\n",
        "    inputs = np.zeros((len(data)-lookback,lookback,df.shape[1]))\n",
        "    labels = np.zeros(len(data)-lookback)\n",
        "    \n",
        "    for i in range(lookback, len(data)):\n",
        "        inputs[i-lookback] = data[i-lookback:i]\n",
        "        labels[i-lookback] = data[i,0]\n",
        "    inputs = inputs.reshape(-1,lookback,df.shape[1])\n",
        "    labels = labels.reshape(-1,1)\n",
        "    \n",
        "    # Split data into train/test portions and combining all data from different files into a single array\n",
        "    test_portion = int(test_portion_factor*len(inputs))\n",
        "    if len(train_x) == 0:\n",
        "        train_x = inputs[:-test_portion]\n",
        "        train_y = labels[:-test_portion]\n",
        "    else:\n",
        "        train_x = np.concatenate((train_x,inputs[:-test_portion]))\n",
        "        train_y = np.concatenate((train_y,labels[:-test_portion]))\n",
        "    test_x[file] = (inputs[-test_portion:])\n",
        "    test_y[file] = (labels[-test_portion:])"
      ],
      "metadata": {
        "colab": {
          "base_uri": "https://localhost:8080/"
        },
        "id": "j5GVxRj3__J2",
        "outputId": "5382b00e-2ddd-4e4f-e894-2e577ec7ceaa"
      },
      "execution_count": 42,
      "outputs": [
        {
          "output_type": "stream",
          "name": "stdout",
          "text": [
            "pyep_results.csv\n"
          ]
        }
      ]
    },
    {
      "cell_type": "code",
      "source": [
        "print(train_x.shape)\n",
        "print(train_y.shape)"
      ],
      "metadata": {
        "colab": {
          "base_uri": "https://localhost:8080/"
        },
        "id": "NpKN_PnhAF55",
        "outputId": "f159915e-5ddc-4501-aec9-e95ef25dda6c"
      },
      "execution_count": 43,
      "outputs": [
        {
          "output_type": "stream",
          "name": "stdout",
          "text": [
            "(24465, 90, 8)\n",
            "(24465, 1)\n"
          ]
        }
      ]
    },
    {
      "cell_type": "code",
      "source": [
        "batch_size = 1024\n",
        "\n",
        "train_data = TensorDataset(torch.from_numpy(train_x), torch.from_numpy(train_y))\n",
        "train_loader = DataLoader(train_data, shuffle=True, batch_size=batch_size, drop_last=True)"
      ],
      "metadata": {
        "id": "-ybKpg1KAPUu"
      },
      "execution_count": 44,
      "outputs": []
    },
    {
      "cell_type": "markdown",
      "source": [
        "## GPU for computation\n",
        "CUDA tensor types, that implement the same function as CPU tensors, but they utilize GPUs for computation."
      ],
      "metadata": {
        "id": "gqjo-2ICBSy8"
      }
    },
    {
      "cell_type": "code",
      "source": [
        "# torch.cuda.is_available() checks and returns a Boolean True if a GPU is available, else it'll return False\n",
        "is_cuda = torch.cuda.is_available()\n",
        "\n",
        "# If we have a GPU available, we'll set our device to GPU. We'll use this device variable later in our code.\n",
        "if is_cuda:\n",
        "    device = torch.device(\"cuda\")\n",
        "else:\n",
        "    device = torch.device(\"cpu\")\n",
        "print(f'Are we using GPU(CUDA)?:{is_cuda}')"
      ],
      "metadata": {
        "id": "-bvvPUC0BUjP",
        "colab": {
          "base_uri": "https://localhost:8080/"
        },
        "outputId": "d5dd0aa2-071a-4e52-88df-f4e05c54b877"
      },
      "execution_count": 45,
      "outputs": [
        {
          "output_type": "stream",
          "name": "stdout",
          "text": [
            "Are we using GPU(CUDA)?:True\n"
          ]
        }
      ]
    },
    {
      "cell_type": "markdown",
      "source": [
        "## Training"
      ],
      "metadata": {
        "id": "cxrSFDJgCQBh"
      }
    },
    {
      "cell_type": "code",
      "source": [
        "model_save_name = 'gru.pt'\n",
        "model_path = F'/content/drive/MyDrive/studying/Summer 2022/Project3/model/{model_save_name}'\n",
        "# path = F\"/content/gdrive/My Drive/{model_save_name}\" \n",
        "# torch.save(gru_model.state_dict(), model_path)\n",
        "# gru_model.load_state_dict(torch.load(model_path))"
      ],
      "metadata": {
        "id": "g9xD0NeQHJhZ"
      },
      "execution_count": 46,
      "outputs": []
    },
    {
      "cell_type": "code",
      "source": [
        "input_dim = next(iter(train_loader))[0].shape[2]\n",
        "\n",
        "if model_type == \"GRU\":\n",
        "    gru_model = GRUNet(input_dim, hidden_dim, output_dim, n_layers)\n",
        "else:\n",
        "    lstm_model = LSTMNet(input_dim, hidden_dim, output_dim, n_layers)\n",
        "gru_model.to(device)"
      ],
      "metadata": {
        "colab": {
          "base_uri": "https://localhost:8080/"
        },
        "id": "qbD74HJlLq_E",
        "outputId": "f78191e6-0682-420a-85b2-b980f9b0626e"
      },
      "execution_count": 47,
      "outputs": [
        {
          "output_type": "execute_result",
          "data": {
            "text/plain": [
              "GRUNet(\n",
              "  (gru): GRU(8, 256, num_layers=2, batch_first=True, dropout=0.2)\n",
              "  (fc): Linear(in_features=256, out_features=1, bias=True)\n",
              "  (relu): ReLU()\n",
              ")"
            ]
          },
          "metadata": {},
          "execution_count": 47
        }
      ]
    },
    {
      "cell_type": "code",
      "source": [
        "if not os.path.isfile(model_path):\n",
        "  print(\"Train from scratch\")\n",
        "  gru_model = train(gru_model, train_loader, lr,hidden_dim, EPOCHS, model_type=\"GRU\")\n",
        "  torch.save(gru_model.state_dict(), model_path)\n",
        "else:\n",
        "  print(\"Load the trained model\")\n",
        "  gru_model.load_state_dict(torch.load(model_path))"
      ],
      "metadata": {
        "colab": {
          "base_uri": "https://localhost:8080/"
        },
        "id": "tTAhQ3dVKqvZ",
        "outputId": "617d6e72-8c7b-4957-bb91-c3ffb8e611b4"
      },
      "execution_count": 48,
      "outputs": [
        {
          "output_type": "stream",
          "name": "stdout",
          "text": [
            "Load the trained model\n"
          ]
        }
      ]
    },
    {
      "cell_type": "code",
      "source": [
        "gru_outputs, targets, gru_sMAPE = evaluate(gru_model, test_x, test_y, label_scalers)"
      ],
      "metadata": {
        "colab": {
          "base_uri": "https://localhost:8080/"
        },
        "id": "9-FwAR8LBrdS",
        "outputId": "537fbc94-d26e-4d7d-f759-d62d6aa15567"
      },
      "execution_count": 49,
      "outputs": [
        {
          "output_type": "stream",
          "name": "stderr",
          "text": [
            "/usr/local/lib/python3.7/dist-packages/ipykernel_launcher.py:53: DeprecationWarning: time.clock has been deprecated in Python 3.3 and will be removed from Python 3.8: use time.perf_counter or time.process_time instead\n"
          ]
        },
        {
          "output_type": "stream",
          "name": "stdout",
          "text": [
            "Evaluation Time: 0.531917\n",
            "sMAPE: 1.0071800806829172%\n"
          ]
        },
        {
          "output_type": "stream",
          "name": "stderr",
          "text": [
            "/usr/local/lib/python3.7/dist-packages/ipykernel_launcher.py:61: DeprecationWarning: time.clock has been deprecated in Python 3.3 and will be removed from Python 3.8: use time.perf_counter or time.process_time instead\n"
          ]
        }
      ]
    },
    {
      "cell_type": "code",
      "source": [
        "def cvrmse_cal(measure, predict, mean_measured):\n",
        "    rmse = (sum((measure - predict) ** 2) / len(measure)) ** (1 / 2)\n",
        "    cvrmse = rmse * 100 / mean_measured\n",
        "    return cvrmse"
      ],
      "metadata": {
        "id": "FYfuhZFWfY5R"
      },
      "execution_count": 50,
      "outputs": []
    },
    {
      "cell_type": "code",
      "source": [
        "plt.plot(gru_outputs[0], label = \"Predicted\")\n",
        "plt.plot(targets[0], label = \"Measured\")\n",
        "mean_measured = abs(targets[0]).mean()\n",
        "cvrmse = cvrmse_cal(targets[0],gru_outputs[0], mean_measured)\n",
        "plt.title(f'CVRMSE:{cvrmse:.2f}%')\n",
        "plt.legend()\n",
        "plt.show()"
      ],
      "metadata": {
        "colab": {
          "base_uri": "https://localhost:8080/",
          "height": 281
        },
        "id": "HPJTDayvdy5P",
        "outputId": "0e176ec6-077c-42e0-a9fe-e970021b0fdb"
      },
      "execution_count": 51,
      "outputs": [
        {
          "output_type": "display_data",
          "data": {
            "text/plain": [
              "<Figure size 432x288 with 1 Axes>"
            ],
            "image/png": "[encoded data removed]"
          },
          "metadata": {
            "needs_background": "light"
          }
        }
      ]
    }
  ]
}